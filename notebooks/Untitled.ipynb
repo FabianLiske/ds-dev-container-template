{
 "cells": [
  {
   "cell_type": "code",
   "execution_count": 1,
   "id": "30978d56-52f0-4f4a-a64b-852d81662867",
   "metadata": {},
   "outputs": [
    {
     "name": "stdout",
     "output_type": "stream",
     "text": [
      "hello world\n",
      "Lel 0\n",
      "Lel 1\n",
      "Lel 2\n",
      "Lel 3\n",
      "Lel 4\n",
      "Lel 5\n",
      "Lel 6\n",
      "Lel 7\n",
      "Lel 8\n",
      "Lel 9\n"
     ]
    }
   ],
   "source": [
    "print(\"hello world\")\n",
    "for i in range(10):\n",
    "    print(f\"Lel {i}\")"
   ]
  }
 ],
 "metadata": {
  "kernelspec": {
   "display_name": "Python 3 (ipykernel)",
   "language": "python",
   "name": "python3"
  },
  "language_info": {
   "codemirror_mode": {
    "name": "ipython",
    "version": 3
   },
   "file_extension": ".py",
   "mimetype": "text/x-python",
   "name": "python",
   "nbconvert_exporter": "python",
   "pygments_lexer": "ipython3",
   "version": "3.10.18"
  }
 },
 "nbformat": 4,
 "nbformat_minor": 5
}
